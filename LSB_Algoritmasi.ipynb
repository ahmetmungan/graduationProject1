{
 "cells": [
  {
   "cell_type": "code",
   "execution_count": 1,
   "metadata": {},
   "outputs": [],
   "source": [
    "import wave"
   ]
  },
  {
   "cell_type": "code",
   "execution_count": 2,
   "metadata": {},
   "outputs": [],
   "source": [
    "import struct"
   ]
  },
  {
   "cell_type": "code",
   "execution_count": 3,
   "metadata": {},
   "outputs": [],
   "source": [
    "import sys"
   ]
  },
  {
   "cell_type": "code",
   "execution_count": 4,
   "metadata": {},
   "outputs": [],
   "source": [
    "def bitleriDamgala(damgaBoyutu, nBit = 8):\n",
    "    damgaBitleri = []\n",
    "    for byte in damgaBoyutu:\n",
    "        for i in range(0, nBit):\n",
    "            damgaBitleri.append((byte & (2 ** i)) >> i)\n",
    "    return damgaBitleri"
   ]
  },
  {
   "cell_type": "code",
   "execution_count": 5,
   "metadata": {},
   "outputs": [],
   "source": [
    "def lsbDamgala(ses, mesaj, cikti):\n",
    "    varsayilanBit = 32\n",
    "    mesaj = str(mesaj)\n",
    "    damga = struct.unpack(\"%dB\" % len(mesaj), mesaj)\n",
    "    damgaBoyutu = len(damga)\n",
    "    damgaBitleri = bitleriDamgala((damgaBoyutu, ), varsayilanBit)\n",
    "    damgaBitleri.extend(bitleriDamgala(damga))\n",
    "    sesFiltresi = wave.open(ses, 'rb')\n",
    "    (kanallar, kesitUzunlugu, cerceveOrani, nCerceve, tip, isim) = sesFiltresi.getparams()\n",
    "    cerceveler = sesFiltresi.readframes(nCerceve * kanallar)\n",
    "    kesitler = struct.unpack_from(\"%dh\" % nCerceve * kanallar, cerceveler)\n",
    "    if len(kesitler) < len(damgaBitleri):\n",
    "        print(\"Damga verisi kesitten daha büyük olamaz.\")\n",
    "    sifreliKesitler = []\n",
    "    damgaKonumu = 0\n",
    "    for kesit in kesitler:\n",
    "        sifreliKesitler = kesit\n",
    "        if damgaKonumu < len(damgaBitleri):\n",
    "            sifreliBit = damgaBitleri[damgaKonumu]\n",
    "            if sifreliBit == 1:\n",
    "                sifreliKesit = kesit | sifreliBit\n",
    "            else:\n",
    "                sifreliKesit = kesit\n",
    "                if kesit & 1 != 0:\n",
    "                    sifreliKesit = kesit - 1\n",
    "            damgaKonumu += 1\n",
    "        sifreliKesitler.append(sifreliKesit)\n",
    "    sifreliSes = wave.open(cikti, 'wb')\n",
    "    sifreliSes.setparams((kanallar, kesitUzunlugu, cerceveOrani, nCerceve, tip, isim))\n",
    "    sifreliSes.writeframes(struct.pack(\"%dh\" % len(sifreliKesitler), *sifreliKesitler))"
   ]
  },
  {
   "cell_type": "code",
   "execution_count": 6,
   "metadata": {},
   "outputs": [],
   "source": [
    "def lsbDesifrele(cikti):\n",
    "    varsayilanBit = 32\n",
    "    damgaliSes = wave.open(cikti, 'rb')\n",
    "    (kanallar, kesitUzunlugu, cerceveOrani, nCerceve, tip, isim) = damgaliSes.getparams()\n",
    "    cerceveler = damgaliSes.readframes(nCerceve * kanallar)\n",
    "    kesitler = struct.unpack_from(\"%dh\" % nCerceve * kanallar, cerceveler)\n",
    "    damgaByte = 0\n",
    "    for (kesit, i) in zip(kesitler[0:varsayilanBit], range(0, varsayilanBit)):\n",
    "        damgaByte += (kesit & 1) * (2 ** i)\n",
    "    damgaVerisi = []\n",
    "    for n in range(0, damgaByte):\n",
    "        damgaByteKesitleri = kesitler[varsayilanBit + (n * 8) : varsayilanBit + ((n + 1) * 8)]\n",
    "        damgaByte = 0\n",
    "        for (kesit, i) in zip(damgaByte, range(0, 8)):\n",
    "            damgaByte += (kesit & 1) * (2 ** i)\n",
    "        damgaVerisi.append(damgaByte)\n",
    "    return damgaVerisi"
   ]
  },
  {
   "cell_type": "code",
   "execution_count": 7,
   "metadata": {},
   "outputs": [],
   "source": [
    "def damgaStr(liste):\n",
    "    return \"\".join([chr(x) for x in liste])"
   ]
  },
  {
   "cell_type": "code",
   "execution_count": 8,
   "metadata": {},
   "outputs": [],
   "source": [
    "def gomuDosyasi(ses, gizliDosya, cikti):\n",
    "    dosya = open(gizliDosya)\n",
    "    gizliDosya = dosya.read()\n",
    "    lsbDamgala(ses, gizliDosya, cikti)"
   ]
  },
  {
   "cell_type": "code",
   "execution_count": 9,
   "metadata": {},
   "outputs": [],
   "source": [
    "def desifreDosyasi(sifreliSinyal, gizliVeriKonumu):\n",
    "    damga = lsbDesifrele(sifreliSinyal)\n",
    "    damgaStr = damgaStr(damga)\n",
    "    dosya = open(gizliVeriKonumu, \"W\")\n",
    "    dosya.write(damgaStr)"
   ]
  },
  {
   "cell_type": "code",
   "execution_count": 10,
   "metadata": {},
   "outputs": [],
   "source": [
    "ses = \".../sesler/ses.mp3\"\n",
    "output = \"x.wav\"\n",
    "if len(sys.argv) > 1:\n",
    "    mesaj = sys.argv[1]\n",
    "    if len(sys.argv) > 2:\n",
    "        ses = sys.argv[2]\n",
    "        if len(sys.argv) > 3:\n",
    "            cikti = sys.argv[3]"
   ]
  },
  {
   "cell_type": "code",
   "execution_count": null,
   "metadata": {
    "scrolled": true
   },
   "outputs": [],
   "source": [
    "lsbDamgala(ses, mesaj, cikti)\n",
    "lsbDesifrele(cikti)"
   ]
  },
  {
   "cell_type": "code",
   "execution_count": null,
   "metadata": {},
   "outputs": [],
   "source": []
  }
 ],
 "metadata": {
  "kernelspec": {
   "display_name": "Python 3",
   "language": "python",
   "name": "python3"
  },
  "language_info": {
   "codemirror_mode": {
    "name": "ipython",
    "version": 3
   },
   "file_extension": ".py",
   "mimetype": "text/x-python",
   "name": "python",
   "nbconvert_exporter": "python",
   "pygments_lexer": "ipython3",
   "version": "3.8.5"
  }
 },
 "nbformat": 4,
 "nbformat_minor": 4
}
